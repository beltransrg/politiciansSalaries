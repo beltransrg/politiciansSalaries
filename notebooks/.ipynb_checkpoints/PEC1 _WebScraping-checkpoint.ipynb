{
 "cells": [
  {
   "cell_type": "markdown",
   "metadata": {},
   "source": [
    "Referencias:\n",
    "web scraping with Python\n",
    "(https://ebookcentral.proquest.com/lib/bibliouocsp-ebooks/detail.action?docID=4191102)"
   ]
  },
  {
   "cell_type": "markdown",
   "metadata": {},
   "source": [
    "Definimos el directorio raíz para poder utilizar las funciones en el notebook"
   ]
  },
  {
   "cell_type": "code",
   "execution_count": 1,
   "metadata": {},
   "outputs": [],
   "source": [
    "import os\n",
    "notebook_path = os.path.abspath(\"PEC1 _WebScraping.ipynb\")\n",
    "dir_path = os.path.dirname(os.path.dirname(notebook_path))"
   ]
  },
  {
   "cell_type": "code",
   "execution_count": 2,
   "metadata": {},
   "outputs": [],
   "source": [
    "import sys\n",
    "sys.path.insert(1, dir_path)"
   ]
  },
  {
   "cell_type": "code",
   "execution_count": 3,
   "metadata": {},
   "outputs": [
    {
     "name": "stdout",
     "output_type": "stream",
     "text": [
      "Requirement already satisfied: beautifulsoup4 in c:\\users\\beltr\\anaconda3\\lib\\site-packages (4.9.3)\n",
      "Requirement already satisfied: soupsieve>1.2 in c:\\users\\beltr\\anaconda3\\lib\\site-packages (from beautifulsoup4) (2.0.1)\n",
      "Note: you may need to restart the kernel to use updated packages.\n"
     ]
    }
   ],
   "source": [
    "pip install beautifulsoup4\n"
   ]
  },
  {
   "cell_type": "code",
   "execution_count": 4,
   "metadata": {},
   "outputs": [],
   "source": [
    "from pec1src import scraper\n",
    "\n",
    "url=\"https://transparentia.newtral.es/ficha/letizia-ortiz-rocasolano\"\n"
   ]
  },
  {
   "cell_type": "code",
   "execution_count": null,
   "metadata": {},
   "outputs": [],
   "source": [
    "scraper.download(url)\n"
   ]
  },
  {
   "cell_type": "code",
   "execution_count": 7,
   "metadata": {},
   "outputs": [
    {
     "name": "stdout",
     "output_type": "stream",
     "text": [
      "Downloading: https://transparentia.newtral.es/busqueda-avanzada?name=&inactive=true\n",
      "\n",
      "\n",
      "\n",
      "\n",
      "\n",
      "\n",
      "\n",
      "\n",
      "\n",
      "\n",
      "\n",
      "\n",
      "\n",
      "\n",
      "\n",
      "\n",
      "Downloading: https://transparentia.newtral.es/busqueda-avanzada?name=&inactive=true\n"
     ]
    },
    {
     "data": {
      "text/plain": [
       "b'<!DOCTYPE html>\\n<html>\\n\\n<head>\\n\\n    <meta charset=\"utf-8\" />\\n    <meta name=\"viewport\" content=\"width=device-width,initial-scale=1.0,user-scalable=no\" />\\n    <meta http-equiv=\"X-UA-Compatible\" content=\"IE=edge,chrome=1\" />\\n    <meta name=\"format-detection\" content=\"telephone=no\">\\n            <!-- Global site tag (gtag.js) - Google Analytics -->\\n        <script async src=\"https://www.googletagmanager.com/gtag/js?id=UA-125111450-1\"></script>\\n        <script>\\n        window.dataLayer = window.dataLayer || [];\\n        function gtag(){dataLayer.push(arguments);}\\n        gtag(\\'js\\', new Date());\\n        gtag(\\'config\\', \\'UA-125111450-1\\');\\n        </script>\\n        <meta property=\"og:locale\" content=\"es_ES\" />\\n    <meta property=\"og:type\" content=\"website\" />\\n    <meta property=\"og:title\" content=\"Transparentia | Newtral\" />\\n    <meta property=\"og:image\" content=\"\" />\\n    <meta property=\"og:image:width\" content=\"775\" />\\n    <meta property=\"og:image:height\" content=\"394\" />\\n    <meta property=\"og:site_name\" content=\"Newtral\" />\\n    <meta property=\"og:description\" content=\"Transparentia es un buscador de sueldos p\\xc3\\xbablicos en constante actualizaci\\xc3\\xb3n. Consulta, analiza y compara los salarios de los pol\\xc3\\xadticos.\" />\\n\\n    <meta name=\"twitter:card\" content=\"summary_large_image\" />\\n    <meta name=\"twitter:title\" content=\"Transparentia | Newtral\" />\\n    <meta name=\"twitter:description\" content=\"Transparentia es un buscador de sueldos p\\xc3\\xbablicos en constante actualizaci\\xc3\\xb3n. Consulta, analiza y compara los salarios de los pol\\xc3\\xadticos.\" />\\n    <meta name=\"twitter:image\" content=\"\" />\\n    <meta name=\"twitter:creator\" content=\"@Newtral\" />\\n    <meta name=\"twitter:site\" content=\"@Newtral\" />\\n\\n    <title>Transparentia | Newtral</title>\\n    <meta name=\"description\" content=\"Transparentia es un buscador de sueldos p\\xc3\\xbablicos en constante actualizaci\\xc3\\xb3n. Consulta, analiza y compara los salarios de los pol\\xc3\\xadticos.\" />\\n\\n    <link rel=\"stylesheet\" href=\"/transparentia/assets/css/criticalCSS.readme.css\" />\\n    <link rel=\"stylesheet\" href=\"/transparentia/assets/css/amp.min.css\" />\\n    <link rel=\"stylesheet\" href=\"/transparentia/assets/css/amp-single.min.css\" />\\n    <link rel=\"stylesheet\" href=\"/transparentia/assets/css/main.min.css\" />\\n    <link rel=\"stylesheet\" href=\"/transparentia/assets/css/main.css\" />\\n\\n</head>\\n\\n<body class=\"template-search\">\\n\\n    <header class=\"c-header l-page o-grid uk-animation-slide-top uk-background-primary o-theme--black\">\\n        <div class=\"c-header__button\">\\n            <a><span class=\"icon-hamburger-black\"></span></a>\\n        </div>\\n      \\n        <div class=\"c-header__menu\">\\n            <a href=\"https://transparentia.newtral.es\"> <img class=\"imglogo\" src=\"/transparentia/assets/img/content/logo_negativo.png\" alt=\"Transparentia - Newtral\"></img></a>\\n            <a  href=\"https://www.newtral.es\">\\n                <div class=\"main-page-pill\">\\n                 \\n                        <p>Una iniciativa de</p>\\n                        <svg\\n                            class=\"svglogo\"\\n                            xmlns:dc=\"http://purl.org/dc/elements/1.1/\"\\n                            xmlns:cc=\"http://creativecommons.org/ns#\"\\n                            xmlns:rdf=\"http://www.w3.org/1999/02/22-rdf-syntax-ns#\"\\n                            xmlns:svg=\"http://www.w3.org/2000/svg\"\\n                            xmlns=\"http://www.w3.org/2000/svg\"\\n                            xmlns:sodipodi=\"http://sodipodi.sourceforge.net/DTD/sodipodi-0.dtd\"\\n                            xmlns:inkscape=\"http://www.inkscape.org/namespaces/inkscape\"\\n                            version=\"1.1\"\\n                            class=\"svglogo\"\\n                            viewBox=\"0 0 352 80\"\\n                            fill=\"none\"\\n                            width=\"352\"\\n                        >\\n                            <rect width=\"352\"></rect>\\n                            <path\\n                                d=\"M349 4.04999H332.384V75.9495H349V4.04999Z\"\\n                                fill=\"white\"\\n                            ></path>\\n                            <path\\n                                d=\"M275.102 18.6814C272.002 17.4956 268.922 17.2946 266.182 17.4956C261.497 17.8473 256.038 23.8364 256.038 24.1178V17.4956H239.694V75.99H256.309V46.6373C256.309 44.4265 256.53 42.3565 256.971 40.4773C257.393 38.6786 258.095 37.0808 259.089 35.7343C260.052 34.4279 261.336 33.3728 262.921 32.6091C264.527 31.8353 267.306 31.3731 269.674 31.4334C273.376 31.5439 275.102 33.1919 275.102 33.1919V18.6814V18.6814Z\"\\n                                fill=\"white\"\\n                            ></path>\\n                            <path\\n                                d=\"M299.374 20.4701C305.334 20.4701 310.441 22.2789 313.421 25.5849V17.4554H329.786V75.8895H313.421V70.453C310.551 73.9701 304.912 75.8895 299.695 75.8895C285.116 75.8895 272.754 65.3382 272.754 48.1747C272.744 31.0214 285.116 20.4701 299.374 20.4701ZM301.551 60.9669C307.772 60.9669 313.421 57.0278 313.421 48.1747C313.421 39.3318 307.772 35.3826 301.551 35.3826C295.33 35.3826 289.169 39.3217 289.169 48.1747C289.169 57.0278 295.33 60.9669 301.551 60.9669Z\"\\n                                fill=\"white\"\\n                            ></path>\\n                            <path\\n                                d=\"M227.342 4.09003L206.743 31.0008H208.599V55.7712C208.599 60.9564 208.539 66.3828 212.763 71.1158C215.643 74.3415 220.319 76.09 226.028 75.9292C230.954 75.7885 234.737 74.7133 236.051 74.0601L237.045 73.4773V58.0021C237.045 58.0021 233.112 59.6601 229.891 59.9516C226.289 60.2832 225.225 57.4795 225.225 54.3041V31.0008H237.045V17.5052H227.342V4.09003Z\"\\n                                fill=\"white\"\\n                            ></path>\\n                            <path\\n                                d=\"M90.6438 76C74.0582 76 62.3289 64.6749 62.2587 46.8583C62.1985 31.775 72.2622 17.5056 90.6438 17.5056C110.4 17.5056 118.708 35.1213 117.694 50.4357L117.614 51.6717H79.5466C79.8878 55.3195 80.9212 58.0025 82.637 59.6606C84.5534 61.5296 87.423 62.4742 91.1455 62.4742C93.7944 62.4742 96.0921 61.811 97.9784 60.5047C99.8346 59.2184 100.968 57.892 101.36 56.5555L101.641 55.6008H117.263L116.701 57.3292C112.878 69.6491 104.259 76 90.6438 76ZM100.176 39.7839C100.095 39.4523 99.9651 38.7791 99.8346 38.4575C98.7911 35.885 97.7577 31.2927 90.2324 31.1319C87.4732 31.0716 81.5634 32.2473 80.0684 37.9751C79.8978 38.6183 79.7372 39.2112 79.6369 39.7739H100.176V39.7839Z\"\\n                                fill=\"white\"\\n                            ></path>\\n                            <path\\n                                d=\"M0 4H16.415L43.5861 42.055V4H59.9209V76H43.5861L16.3448 36.498V76H0V4Z\"\\n                                fill=\"white\"\\n                            ></path>\\n                            <path\\n                                d=\"M119.902 50.7372L137.902 76L180.525 17.5056H160.96L137.852 49.3605L130.598 39.2514L119.902 50.7372Z\"\\n                                fill=\"#1AE0AC\"\\n                                class=\"svggreen\"\\n                            ></path>\\n                            <path\\n                                d=\"M156.806 55.9927L170.973 76L213.596 17.5056H194.02L170.913 49.3605L166.358 43.0297L156.806 55.9927Z\"\\n                                fill=\"#1AE0AC\"\\n                                class=\"svggreen\"\\n                            ></path>\\n                        </svg>\\n                    \\n                </div>\\n            </a>\\n        </div>\\n\\n    </header>\\n    <div class=\"navigation-menu\">\\n        <div id=\"main-menu\" class=\"c-menu-modal uk-modal-full\" style=\"display: none;\">\\n    <div\\n        class=\"uk-height-1-1 uk-background-primary uk-width-1-1 c-menu-modal__main\"\\n    >\\n        <nav\\n            class=\"c-menu-modal__column uk-light c-navigation c-navigation--vertical\"\\n        >\\n            <ul id=\"menu-menu-principal\" class=\"c-navigation__main\">\\n                <li class=\"uk-flex uk-flex-between uk-flex-middle uk-width-1-1\">\\n                    <a\\n                        class=\"submenu-link\"\\n                        href=\"https://transparentia.newtral.es/buscador\"\\n                        >Buscador de sueldos</a\\n                    >\\n                </li>\\n                <li class=\"uk-flex uk-flex-between uk-flex-middle uk-width-1-1\">\\n                    <a\\n                        class=\"submenu-link\"\\n                        href=\"https://transparentia.newtral.es/mapa\"\\n                        >Mapa de alcaldes</a\\n                    >\\n                </li>\\n            </ul>\\n        </nav>\\n        <a class=\"submenu-link\" href=\"https://www.newtral.es\">\\n            <div class=\"main-page-button\">\\n                <div>\\n                    <p class=\"main-page-button-text\">Una iniciativa de</p>\\n                    <svg\\n                        class=\"svglogo--medium\"\\n                        xmlns:dc=\"http://purl.org/dc/elements/1.1/\"\\n                        xmlns:cc=\"http://creativecommons.org/ns#\"\\n                        xmlns:rdf=\"http://www.w3.org/1999/02/22-rdf-syntax-ns#\"\\n                        xmlns:svg=\"http://www.w3.org/2000/svg\"\\n                        xmlns=\"http://www.w3.org/2000/svg\"\\n                        xmlns:sodipodi=\"http://sodipodi.sourceforge.net/DTD/sodipodi-0.dtd\"\\n                        xmlns:inkscape=\"http://www.inkscape.org/namespaces/inkscape\"\\n                        version=\"1.1\"\\n                        class=\"svglogo\"\\n                        viewBox=\"0 0 352 80\"\\n                        fill=\"none\"\\n                        width=\"352\"\\n                    >\\n                        <rect width=\"352\"></rect>\\n                        <path\\n                            d=\"M349 4.04999H332.384V75.9495H349V4.04999Z\"\\n                            fill=\"white\"\\n                        ></path>\\n                        <path\\n                            d=\"M275.102 18.6814C272.002 17.4956 268.922 17.2946 266.182 17.4956C261.497 17.8473 256.038 23.8364 256.038 24.1178V17.4956H239.694V75.99H256.309V46.6373C256.309 44.4265 256.53 42.3565 256.971 40.4773C257.393 38.6786 258.095 37.0808 259.089 35.7343C260.052 34.4279 261.336 33.3728 262.921 32.6091C264.527 31.8353 267.306 31.3731 269.674 31.4334C273.376 31.5439 275.102 33.1919 275.102 33.1919V18.6814V18.6814Z\"\\n                            fill=\"white\"\\n                        ></path>\\n                        <path\\n                            d=\"M299.374 20.4701C305.334 20.4701 310.441 22.2789 313.421 25.5849V17.4554H329.786V75.8895H313.421V70.453C310.551 73.9701 304.912 75.8895 299.695 75.8895C285.116 75.8895 272.754 65.3382 272.754 48.1747C272.744 31.0214 285.116 20.4701 299.374 20.4701ZM301.551 60.9669C307.772 60.9669 313.421 57.0278 313.421 48.1747C313.421 39.3318 307.772 35.3826 301.551 35.3826C295.33 35.3826 289.169 39.3217 289.169 48.1747C289.169 57.0278 295.33 60.9669 301.551 60.9669Z\"\\n                            fill=\"white\"\\n                        ></path>\\n                        <path\\n                            d=\"M227.342 4.09003L206.743 31.0008H208.599V55.7712C208.599 60.9564 208.539 66.3828 212.763 71.1158C215.643 74.3415 220.319 76.09 226.028 75.9292C230.954 75.7885 234.737 74.7133 236.051 74.0601L237.045 73.4773V58.0021C237.045 58.0021 233.112 59.6601 229.891 59.9516C226.289 60.2832 225.225 57.4795 225.225 54.3041V31.0008H237.045V17.5052H227.342V4.09003Z\"\\n                            fill=\"white\"\\n                        ></path>\\n                        <path\\n                            d=\"M90.6438 76C74.0582 76 62.3289 64.6749 62.2587 46.8583C62.1985 31.775 72.2622 17.5056 90.6438 17.5056C110.4 17.5056 118.708 35.1213 117.694 50.4357L117.614 51.6717H79.5466C79.8878 55.3195 80.9212 58.0025 82.637 59.6606C84.5534 61.5296 87.423 62.4742 91.1455 62.4742C93.7944 62.4742 96.0921 61.811 97.9784 60.5047C99.8346 59.2184 100.968 57.892 101.36 56.5555L101.641 55.6008H117.263L116.701 57.3292C112.878 69.6491 104.259 76 90.6438 76ZM100.176 39.7839C100.095 39.4523 99.9651 38.7791 99.8346 38.4575C98.7911 35.885 97.7577 31.2927 90.2324 31.1319C87.4732 31.0716 81.5634 32.2473 80.0684 37.9751C79.8978 38.6183 79.7372 39.2112 79.6369 39.7739H100.176V39.7839Z\"\\n                            fill=\"white\"\\n                        ></path>\\n                        <path\\n                            d=\"M0 4H16.415L43.5861 42.055V4H59.9209V76H43.5861L16.3448 36.498V76H0V4Z\"\\n                            fill=\"white\"\\n                        ></path>\\n                        <path\\n                            d=\"M119.902 50.7372L137.902 76L180.525 17.5056H160.96L137.852 49.3605L130.598 39.2514L119.902 50.7372Z\"\\n                            fill=\"#1AE0AC\"\\n                            class=\"svggreen\"\\n                        ></path>\\n                        <path\\n                            d=\"M156.806 55.9927L170.973 76L213.596 17.5056H194.02L170.913 49.3605L166.358 43.0297L156.806 55.9927Z\"\\n                            fill=\"#1AE0AC\"\\n                            class=\"svggreen\"\\n                        ></path>\\n                    </svg>\\n                </div>\\n                <span class=\"icon-right-white\"></span>\\n            </div>\\n        </a>\\n    </div>\\n</div>\\n  \\n    </div>\\n    \\n    <div id=\"top\" class=\"site-wrapper\">\\n         \\n        <header class=\"site-header\">        \\n            <div class=\"w1400\">\\n    <div class=\"wrapper\">\\n        <a href=\"#\" onClick=\"history.back()\" class=\"e-back\" title=\"Ir atr\\xc3\\xa1s\">\\n            <!-- SVG have to be in partials **** -->\\n            <svg width=\"34px\" height=\"23px\" viewBox=\"0 0 34 23\" version=\"1.1\" xmlns=\"http://www.w3.org/2000/svg\" xmlns:xlink=\"http://www.w3.org/1999/xlink\">\\n                <g id=\"Design\" stroke=\"none\" stroke-width=\"1\" fill=\"none\" fill-rule=\"evenodd\">\\n                    <g id=\"1_ficha_politico_transparentia_v.escritorio\" transform=\"translate(-40.000000, -51.000000)\" fill=\"#1AE1AD\" fill-rule=\"nonzero\">\\n                        <g id=\"cabecera-cuchillo\">\\n                            <g id=\"menu\" transform=\"translate(40.000000, 30.000000)\">\\n                                <path d=\"M11.0909755,21.3459193 C11.5702935,20.8846936 12.3248954,20.8846936 12.8042134,21.3459193 C13.2673382,21.7915632 13.2673382,22.5332641 12.8042134,22.9778691 L4.11711476,31.337067 L32.7833528,31.337067 C33.4515911,31.337067 34,31.848155 34,32.4911702 C34,33.1341854 33.4515911,33.6618942 32.7833528,33.6618942 L4.11711476,33.6618942 L12.8042134,42.0055101 C13.2673382,42.4667359 13.2673382,43.2094756 12.8042134,43.6540807 C12.3248954,44.1153064 11.5702935,44.1153064 11.0909755,43.6540807 L0.347343605,33.3159749 C-0.115781202,32.8703311 -0.115781202,32.1286301 0.347343605,31.6840251 L11.0909755,21.3459193 Z\" id=\"Shape\"></path>\\n                            </g>\\n                        </g>\\n                    </g>\\n                </g>\\n            </svg>\\n        </a>\\n    \\n    </div>\\n</div>\\n        </header>\\n\\n        <div id=\"content\" class=\"page-content\">\\n                <div id=\"advanced-search\" data-name=\"\" data-inactive=\"true\"></div>\\n    <div class=\"message-disclaimer\">\\n    <div class=\"e-message\">\\n        <p>\\n            La informaci\\xc3\\xb3n del buscador de Transparentia est\\xc3\\xa1 en proceso constante de actualizaci\\xc3\\xb3n.\\n            <a href=\"https://www.newtral.es/metodologia-transparentia/\" target=\"_blank\">\\n                Puedes ver m\\xc3\\xa1s detalles en la metodolog\\xc3\\xada.\\n            </a></p>\\n    </div>\\n</div>\\n        </div>\\n\\n    </div>\\n\\n    \\n    <footer id=\"colophon\" class=\"site-footer o-section l-footer\">\\n        <div class=\"o-section__row l-footer__inner\">\\n            <ul data-featured-grid=\"1\" class=\"l-footer__menu\">\\n                <li id=\"menu-item-32867\" class=\"menu-item menu-item-type-post_type menu-item-object-page menu-item-home menu-item-32867\"><a href=\"https://transparentia.newtral.es\">Inicio</a></li>\\n                <li id=\"menu-item-32868\" class=\"menu-item menu-item-type-post_type menu-item-object-page menu-item-privacy-policy menu-item-32868\"><a href=\"https://transparentia.newtral.esaviso-legal-y-politica-de-privacidad/\">Aviso legal</a></li>\\n                <li id=\"menu-item-74188\" class=\"menu-item menu-item-type-post_type menu-item-object-page menu-item-74188\"><a href=\"https://transparentia.newtral.espolitica-de-privacidad/\">Privacidad</a></li>\\n                <li id=\"menu-item-32869\" class=\"menu-item menu-item-type-post_type menu-item-object-page menu-item-32869\"><a href=\"https://transparentia.newtral.escontacto/\">Contacto</a></li>\\n            </ul>\\n            <ul data-featured-grid=\"1\" class=\"l-footer__social\">\\n                <li><a href=\"https://twitter.com/Newtral\" class=\"u-perserve uk-perserve\">Twitter</a></li>\\n                <li><a href=\"https://www.facebook.com/NewtralMedia/\" class=\"u-perserve uk-perserve\">Facebook</a></li>\\n                <li><a href=\"https://www.instagram.com/newtral/?hl=es\" class=\"u-perserve uk-perserve\">Instagram</a></li>\\n                <li><a href=\"https://www.youtube.com/channel/UCe04maP4YHNTAPayUBIl2Fg\" class=\"u-perserve uk-perserve\">YouTube</a></li>\\n                <li><a href=\"https://t.me/newtral_telegram \" class=\"u-perserve uk-perserve\">Telegram </a></li>\\n            </ul>\\n        </div>\\n    </footer>\\n\\n    <script type=\"text/javascript\" src=\"/transparentia/assets/js/jquery.js\"></script>\\n    \\n\\n        <script>\\n        $(function() {\\n            $(\"#slider-range\").slider({\\n                range: true,\\n                min: 0,\\n                max: 99999,\\n                values: [2500, 25000],\\n                slide: function(event, ui) {\\n                    $(\"#amount\").val(ui.values[0] + \" \\xe2\\x82\\xac\" + \" - \" + ui.values[1] + \" \\xe2\\x82\\xac\");\\n                }\\n            });\\n            $(\"#amount\").val($(\"#slider-range\").slider(\"values\", 0) + \" \\xe2\\x82\\xac\" +\\n                \" - \" + $(\"#slider-range\").slider(\"values\", 1) + \" \\xe2\\x82\\xac\");\\n        });\\n\\n        $(\\'.icon-hamburger-black\\').click(function() {\\n            $(this).toggleClass(\\'icon-close-white\\');\\n            $(this).toggleClass(\\'icon-hamburger-black\\');\\n            $(\\'#main-menu\\').fadeToggle(\"fast\");\\n            $(\\'#top\\').toggle();\\n            $(\\'#colophon\\').toggle();\\n        \\n        });\\n    </script>\\n    <script type=\"text/javascript\" src=\"/transparentia/assets/js/vendor/jquery-ui/jquery-ui.js\"></script>\\n    <script type=\"text/javascript\" src=\"/transparentia/assets/js/vendor/jquery-ui/jquery-ui-touch.js\"></script>\\n    <script type=\"text/javascript\" src=\"/transparentia/assets/js/vendor/modernizr-custom.js\"></script>\\n    <script type=\"text/javascript\" src=\"/transparentia/assets/js/functions.js\"></script>\\n    <script type=\"text/javascript\" src=\"/transparentia/assets/js/base.js\"></script>\\n    <script defer type=\"text/javascript\" src=\"/transparentia/assets/js/react.js\"></script>\\n\\n</body>\\n\\n</html>\\n'"
      ]
     },
     "execution_count": 7,
     "metadata": {},
     "output_type": "execute_result"
    }
   ],
   "source": [
    "from bs4 import BeautifulSoup\n",
    "\n",
    "urlRoot=\"https://transparentia.newtral.es/busqueda-avanzada?name=&inactive=true\"\n",
    "sourceCode = scraper.download(urlRoot)\n",
    "\n",
    "soup = BeautifulSoup(sourceCode, 'html.parser')\n",
    "for link in soup.find_all('a', href=True):\n",
    "    print()\n",
    "\n",
    "\n",
    "#A partir de aqui buscar los links dentro del buscador con el formato:\n",
    "#<a href=\"/ficha/letizia-ortiz-rocasolano\" \n"
   ]
  },
  {
   "cell_type": "code",
   "execution_count": null,
   "metadata": {},
   "outputs": [],
   "source": []
  }
 ],
 "metadata": {
  "kernelspec": {
   "display_name": "Python 3",
   "language": "python",
   "name": "python3"
  },
  "language_info": {
   "codemirror_mode": {
    "name": "ipython",
    "version": 3
   },
   "file_extension": ".py",
   "mimetype": "text/x-python",
   "name": "python",
   "nbconvert_exporter": "python",
   "pygments_lexer": "ipython3",
   "version": "3.8.5"
  }
 },
 "nbformat": 4,
 "nbformat_minor": 4
}
